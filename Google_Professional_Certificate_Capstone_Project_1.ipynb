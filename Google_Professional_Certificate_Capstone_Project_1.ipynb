{
 "cells": [
  {
   "cell_type": "markdown",
   "id": "5ee92089",
   "metadata": {},
   "source": [
    "# **Google Professional Certificate Capstone Project 1**\n",
    "**Case Study**: How Does a Bike-Share Navigate Speedy Success?"
   ]
  },
  {
   "cell_type": "markdown",
   "id": "a06eb0ef",
   "metadata": {},
   "source": [
    " **Sources of Data**:\n",
    "     \n",
    "   The data for analysis has been made available by **Motivate International Inc.**"
   ]
  },
  {
   "cell_type": "markdown",
   "id": "f67b1f1d",
   "metadata": {},
   "source": [
    "## Business questions for future marketing programs \n",
    "The following questions are the questions which will the main focus of the analysis\n",
    "\n",
    "- How do annual members and casual riders use Cyclistic bikes differently?\n",
    "\n",
    "- Why would casual riders buy Cyclistic annual memberships?\n",
    "\n",
    "- How can Cyclistic use digital media to influence casual riders to become members?\n"
   ]
  },
  {
   "cell_type": "code",
   "execution_count": 2,
   "id": "bdbc8a00",
   "metadata": {},
   "outputs": [],
   "source": [
    "import pandas as pd\n",
    "import numpy as np\n",
    "import os\n",
    "from glob import glob"
   ]
  },
  {
   "cell_type": "markdown",
   "id": "258b40a2",
   "metadata": {},
   "source": [
    "## 1. Aggregation of year 2020's data\n",
    "\n",
    "- First we are taking all the 12 files\n",
    "\n",
    "- This 12 files represent data of each month\n",
    "\n",
    "- We are concatenating the files and saving it in Total_df.csv file"
   ]
  },
  {
   "cell_type": "code",
   "execution_count": 3,
   "id": "ab0f98fe",
   "metadata": {},
   "outputs": [],
   "source": [
    "files = glob('Location of the files in the file system')\n",
    "\n",
    "data_frames = []\n",
    "\n",
    "for i in range(20):\n",
    "    csv_file = pd.read_csv(files[i])\n",
    "    df = pd.DataFrame(csv_file)\n",
    "    data_frames.append(df)"
   ]
  },
  {
   "cell_type": "markdown",
   "id": "16b2e1c8",
   "metadata": {},
   "source": [
    "**In the above cell I've written \"Location of the files in the file system\" in place of the actual location for privacy reasons**"
   ]
  },
  {
   "cell_type": "code",
   "execution_count": 4,
   "id": "a54d7b4f",
   "metadata": {},
   "outputs": [],
   "source": [
    "Total_df = pd.concat(data_frames)"
   ]
  },
  {
   "cell_type": "markdown",
   "id": "416c6d78",
   "metadata": {},
   "source": [
    "## 2. Processing the data for cleaning purposes"
   ]
  },
  {
   "cell_type": "markdown",
   "id": "7fed0876",
   "metadata": {},
   "source": [
    "- We are finding out if any column of the Total_df dataframe has null values"
   ]
  },
  {
   "cell_type": "code",
   "execution_count": 5,
   "id": "c01ae84c",
   "metadata": {},
   "outputs": [
    {
     "data": {
      "text/plain": [
       "ride_id               False\n",
       "rideable_type         False\n",
       "started_at            False\n",
       "ended_at              False\n",
       "start_station_name     True\n",
       "start_station_id       True\n",
       "end_station_name       True\n",
       "end_station_id         True\n",
       "start_lat             False\n",
       "start_lng             False\n",
       "end_lat                True\n",
       "end_lng                True\n",
       "member_casual         False\n",
       "dtype: bool"
      ]
     },
     "execution_count": 5,
     "metadata": {},
     "output_type": "execute_result"
    }
   ],
   "source": [
    "Total_df.isna().any() # This code will return true for any column if it has at least one null value else, it will return false"
   ]
  },
  {
   "cell_type": "markdown",
   "id": "d8eaf632",
   "metadata": {},
   "source": [
    "- We are dropping all the records with null values"
   ]
  },
  {
   "cell_type": "code",
   "execution_count": 6,
   "id": "7df7ba33",
   "metadata": {},
   "outputs": [],
   "source": [
    "Total_df.dropna(inplace=True) # This code will drop all the records with null values"
   ]
  },
  {
   "cell_type": "markdown",
   "id": "ced4a894",
   "metadata": {},
   "source": [
    "\n",
    "## 3. Analyzing the data\n"
   ]
  },
  {
   "cell_type": "markdown",
   "id": "62d6c602",
   "metadata": {},
   "source": [
    "### 3.1 Day of week and Duration of ride analysis\n",
    "We are trying to find out the difference in consistency in ride duration for member and casual riders for differenct days of the week. "
   ]
  },
  {
   "cell_type": "markdown",
   "id": "8bc7a3c1",
   "metadata": {},
   "source": [
    "#### 3.1.1 Finding out the ride lengths for each trips (trip duration of each trip)\n",
    "\n",
    "- First, We are finding out the ride lengths of each trip by subtracting the started_at column from the ended_at column \n",
    "\n",
    "- Second, We are adding the ride length values into a new column in the data frame with the name ride_length"
   ]
  },
  {
   "cell_type": "code",
   "execution_count": 8,
   "id": "a7dd6f7c",
   "metadata": {},
   "outputs": [],
   "source": [
    "Total_df['ride_length'] =  pd.to_datetime(Total_df['ended_at']).subtract(pd.to_datetime(Total_df['started_at']))"
   ]
  },
  {
   "cell_type": "markdown",
   "id": "5e079056",
   "metadata": {},
   "source": [
    "\n",
    "\n",
    "#### 3.1.2 Finding out the day of the week in which the trip was done\n",
    "\n",
    "- First, We are using a property to convert the datetimes in started_at column to days of the week\n",
    "    \n",
    "    - We will be seeing the days as integers ranging from 0 to 6 \n",
    "        - 0 : Monday\n",
    "        - 1 : Tuesday \n",
    "        - 2 : Wednesday\n",
    "        - 3 : Thursday\n",
    "        - 4 : Friday\n",
    "        - 5 : Saturday\n",
    "        - 6 : Sunday\n",
    "        \n",
    "- Second, We will be adding the numerical representation values of days of week to a new created column named day_of_week\n",
    "\n"
   ]
  },
  {
   "cell_type": "code",
   "execution_count": 9,
   "id": "560994e6",
   "metadata": {},
   "outputs": [],
   "source": [
    "day_of_week_series = pd.to_datetime(Total_df['started_at']) # getting the date values from the started_at \n",
    "                                                            # column"
   ]
  },
  {
   "cell_type": "code",
   "execution_count": 10,
   "id": "6ecbe46a",
   "metadata": {},
   "outputs": [],
   "source": [
    "Total_df['day_of_week'] = day_of_week_series.dt.dayofweek # getting the numerical representations of the date in the day_of_week\n",
    "                                                          # column"
   ]
  },
  {
   "cell_type": "markdown",
   "id": "4ca14266",
   "metadata": {},
   "source": [
    " - **Central tendency and dispersion of the ride_length column**"
   ]
  },
  {
   "cell_type": "code",
   "execution_count": 11,
   "id": "12e4205f",
   "metadata": {},
   "outputs": [],
   "source": [
    "ride_length_describe = Total_df['ride_length'].describe()"
   ]
  },
  {
   "cell_type": "markdown",
   "id": "ad74212d",
   "metadata": {},
   "source": [
    "**For Privacy Reasons I've not provided the output of of the above method**"
   ]
  },
  {
   "cell_type": "markdown",
   "id": "bee619b7",
   "metadata": {},
   "source": [
    "- **Pivot table representation of the ride_length data**"
   ]
  },
  {
   "cell_type": "code",
   "execution_count": 12,
   "id": "21a51d4b",
   "metadata": {},
   "outputs": [],
   "source": [
    "pivot_table_1 = Total_df.pivot_table(index=\"member_casual\", columns=\"day_of_week\", values=\"ride_length\", aggfunc=\"mean\")\n"
   ]
  },
  {
   "cell_type": "markdown",
   "id": "4bfa8df1",
   "metadata": {},
   "source": [
    "<b> In the above table we can see the day_of_week in as the columns and rider types as the rows </b>\n",
    "\n",
    "- The values are the mean ride_length of the casual and member riders per day of wee\n",
    "\n",
    "**For Privacy Reasons I've not provided the output of of the pivot table**"
   ]
  },
  {
   "cell_type": "code",
   "execution_count": 13,
   "id": "b8e8c86e",
   "metadata": {},
   "outputs": [],
   "source": [
    "chart_df = pd.DataFrame(pivot_table_1.median(axis=1)).T\n"
   ]
  },
  {
   "cell_type": "markdown",
   "id": "0841a9fd",
   "metadata": {},
   "source": [
    "#### The above data shows the Standard Deviations of Casual riders and Member riders ride lengths\n",
    "\n",
    "We can see the average ride length for casual riders accross the week is higher than the member riders.\n",
    "\n",
    "**For Privacy Reasons I've not provided the output of of the Dataframe**"
   ]
  },
  {
   "cell_type": "code",
   "execution_count": 14,
   "id": "6f116398",
   "metadata": {},
   "outputs": [],
   "source": [
    "pivot_table_2 = Total_df.pivot_table(index=\"member_casual\", columns=\"day_of_week\", values=\"ride_id\", aggfunc=\"count\")"
   ]
  },
  {
   "cell_type": "markdown",
   "id": "d6a452d7",
   "metadata": {},
   "source": [
    "**In the above table we can see the day_of_week as the columns and rider types as the rows**\n",
    "\n",
    "We are getting count of ride ids for casual and members in different days of the week which gives us the number of trips made by casual and members in different days of the week\n",
    "\n",
    "From the above table we can see the number of trips for casual riders increase in the 'Friday', 'Saturday' and 'Sundays'. \n",
    "\n",
    "**For Privacy Reasons I've not provided the output of of the pivot table**"
   ]
  },
  {
   "cell_type": "code",
   "execution_count": 19,
   "id": "48c2d938",
   "metadata": {},
   "outputs": [],
   "source": [
    "chart_df_2 = pd.DataFrame(pivot_table_2.std(axis=1)).T\n",
    "casual_std = str(chart_df_2['casual'])\n",
    "casual_std = casual_std.split(' ')\n",
    "casual_std = casual_std[4].split('\\n')\n",
    "member_std = str(chart_df_2['member'])\n",
    "member_std = member_std.split(' ')\n",
    "member_std = member_std[4].split('\\n')\n",
    "\n",
    "standard_deviation_casual_rides = 'The standard deviation of number of casual rides - ' + casual_std[0]"
   ]
  },
  {
   "cell_type": "code",
   "execution_count": 18,
   "id": "00debfc8",
   "metadata": {},
   "outputs": [],
   "source": [
    "standard_deviation_member_rides = 'The standard deviation of number of member rides - ' + member_std[0]"
   ]
  },
  {
   "cell_type": "markdown",
   "id": "6845136c",
   "metadata": {},
   "source": [
    "The standard deviation of number of casual rides is higher than the number of member rides which means the number of rides by members are more cosistent throughout the week."
   ]
  },
  {
   "cell_type": "markdown",
   "id": "86af41eb",
   "metadata": {},
   "source": [
    "### 3.2 Finding out the Non-member daily-commuters\n",
    "The following analysis will show how on certain stations the arrival of the bikes are more frequent for member riders, and how those stations are located in city areas. Finding the frequency of visit for each of those stations, taking into account only the rides made during the commute hours, it indicates that those rides were for purposes of commute.\n",
    "\n",
    "These commute destinations for the members also have a high frequency of non-member riders. These users are the primary users who can be converted into members.\n",
    "\n"
   ]
  },
  {
   "cell_type": "markdown",
   "id": "1f735e6c",
   "metadata": {},
   "source": [
    "#### 3.2.1 Filtering out the data\n",
    "In this step, we are going to filter out the rows where the rides that were not made during the **commute time**. \n",
    "\n",
    "The **Commute Time** is assumed to be between 08:00:00 and 12:00:00 in the morning."
   ]
  },
  {
   "cell_type": "code",
   "execution_count": 20,
   "id": "af981356",
   "metadata": {},
   "outputs": [],
   "source": [
    "\n",
    "from datetime import datetime\n",
    "trip_start_time = pd.to_datetime(Total_df['started_at'])\n",
    "trip_start_time = trip_start_time.dt.time\n",
    "Total_df['trip_start_time'] = trip_start_time\n",
    "\n",
    "\n",
    "\n",
    "\n",
    "var1 = datetime(1, 1, 1, 8, 0)\n",
    "var1 = var1.time()\n",
    "\n",
    "var2 = datetime(1, 1, 1, 12, 0)\n",
    "var2 = var2.time()\n",
    "Total_df = Total_df.query('trip_start_time >= @var1')\n",
    "Total_df = Total_df.query('trip_start_time <= @var2')"
   ]
  },
  {
   "cell_type": "markdown",
   "id": "4f0ef7ca",
   "metadata": {},
   "source": [
    "Here we are creating a subset of the dataframe with the columns lng(end_lng), lat(end_lat), and destination_name(end_station_name); and dropping the duplicate records by end_station_name."
   ]
  },
  {
   "cell_type": "code",
   "execution_count": 21,
   "id": "d4d6a626",
   "metadata": {},
   "outputs": [
    {
     "name": "stderr",
     "output_type": "stream",
     "text": [
      "C:\\Users\\User\\anaconda3\\lib\\site-packages\\pandas\\core\\frame.py:5039: SettingWithCopyWarning: \n",
      "A value is trying to be set on a copy of a slice from a DataFrame\n",
      "\n",
      "See the caveats in the documentation: https://pandas.pydata.org/pandas-docs/stable/user_guide/indexing.html#returning-a-view-versus-a-copy\n",
      "  return super().rename(\n"
     ]
    }
   ],
   "source": [
    "sub_df = Total_df[['end_lng', 'end_lat', 'end_station_name']]\n",
    "end_stations_table = sub_df.drop_duplicates('end_station_name', keep='first')\n",
    "\n",
    "\n",
    "end_stations_table.rename(columns={'end_station_name': 'destination_name', 'end_lat': 'lat', 'end_lng': 'lng'}, inplace=True)"
   ]
  },
  {
   "cell_type": "markdown",
   "id": "efd89eb2",
   "metadata": {},
   "source": [
    "#### 3.2.2 Creating the frequency distribution\n",
    "In The code below, we're creating a frequency distribution for each place based on the casual and member rider visits. That means, every station is listed on the table with their corresponding frequency of **visit** by members and casuals (shown in different columns) between the commute hours. \n",
    "\n",
    "Here **Visit** of a station is the number of rides taken to that place (the place therein has to be the destination). "
   ]
  },
  {
   "cell_type": "code",
   "execution_count": 22,
   "id": "09991461",
   "metadata": {
    "scrolled": false
   },
   "outputs": [],
   "source": [
    "\n",
    "freq_dist_casual = Total_df.query('member_casual == \"casual\"').groupby(['end_station_name']).size()\n",
    "freq_dist_member = Total_df.query('member_casual == \"member\"').groupby(['end_station_name']).size()\n",
    "\n",
    "freq_dist_casual = pd.DataFrame({'destination_name':freq_dist_casual.index, 'frequency_casual': freq_dist_casual.values})\n",
    "merged_dataframe = pd.merge(end_stations_table, freq_dist_casual, left_on='destination_name', right_on='destination_name', how='outer')\n",
    "\n",
    "freq_dist_member = pd.DataFrame({'destination_name':freq_dist_member.index, 'frequency_member':freq_dist_member.values})\n",
    "merged_dataframe = pd.merge(merged_dataframe, freq_dist_member, on='destination_name', how='outer')\n",
    "merged_dataframe = merged_dataframe.fillna(0)"
   ]
  },
  {
   "cell_type": "markdown",
   "id": "1692d444",
   "metadata": {},
   "source": [
    "#### 3.2.3 Sorting the table in desceding order of casual user's frequencies"
   ]
  },
  {
   "cell_type": "code",
   "execution_count": 23,
   "id": "80104eed",
   "metadata": {},
   "outputs": [],
   "source": [
    "from matplotlib import pyplot as plt\n",
    "sorted_table_casual = merged_dataframe.sort_values(['frequency_casual'], ascending=False)\n",
    "\n",
    "sorted_table_casual = pd.DataFrame(sorted_table_casual[['frequency_casual', 'destination_name']].reset_index())\n",
    "sorted_table_casual = sorted_table_casual.drop(['index'], axis=1)\n",
    "sorted_table_casual = sorted_table_casual.fillna(0)"
   ]
  },
  {
   "cell_type": "markdown",
   "id": "ff0053e3",
   "metadata": {},
   "source": [
    "#### 3.2.3 Sorting the table in descending order of member user's frequencies and plotting it"
   ]
  },
  {
   "cell_type": "code",
   "execution_count": 27,
   "id": "4fd7ae33",
   "metadata": {},
   "outputs": [],
   "source": [
    "from matplotlib import pyplot as plt\n",
    "sorted_table_member = merged_dataframe.sort_values(['frequency_member'], ascending=False)\n",
    "\n",
    "sorted_table_member = pd.DataFrame(sorted_table_member[['frequency_member', 'frequency_casual', 'destination_name']].reset_index())\n",
    "sorted_table_member = sorted_table_member.drop(['index'], axis=1)"
   ]
  },
  {
   "cell_type": "code",
   "execution_count": 28,
   "id": "e2c0db57",
   "metadata": {},
   "outputs": [
    {
     "data": {
      "text/plain": [
       "Text(0, 0.5, 'Frequency')"
      ]
     },
     "execution_count": 28,
     "metadata": {},
     "output_type": "execute_result"
    },
    {
     "data": {
      "image/png": "[encoded data removed]",
      "text/plain": [
       "<Figure size 432x288 with 1 Axes>"
      ]
     },
     "metadata": {
      "needs_background": "light"
     },
     "output_type": "display_data"
    }
   ],
   "source": [
    "plt.plot(sorted_table_member.index.values, sorted_table_member['frequency_member'])\n",
    "plt.xlabel('Index (in descending order of frequency)')\n",
    "plt.ylabel('Frequency')\n"
   ]
  },
  {
   "cell_type": "markdown",
   "id": "9c4e3421",
   "metadata": {},
   "source": [
    "$$Frequency of Casual User / Frequency of Member*100$$"
   ]
  },
  {
   "cell_type": "code",
   "execution_count": 29,
   "id": "7794dcaa",
   "metadata": {},
   "outputs": [
    {
     "data": {
      "text/plain": [
       "<matplotlib.lines.Line2D at 0x1e6486c7fa0>"
      ]
     },
     "execution_count": 29,
     "metadata": {},
     "output_type": "execute_result"
    },
    {
     "data": {
      "image/png": "[encoded data removed]",
      "text/plain": [
       "<Figure size 720x288 with 1 Axes>"
      ]
     },
     "metadata": {
      "needs_background": "light"
     },
     "output_type": "display_data"
    }
   ],
   "source": [
    "sorted_table_member = sorted_table_member.head(120)\n",
    "ratio_casual_member = sorted_table_member['frequency_casual']/sorted_table_member['frequency_member'] * 100\n",
    "\n",
    "f = plt.figure()\n",
    "f.set_figwidth(10)\n",
    "f.set_figheight(4)\n",
    "plt.bar(ratio_casual_member.index.values, ratio_casual_member.values)\n",
    "plt.xlabel('index number of destination name')\n",
    "plt.ylabel('percentage of casual riders compared to members')\n",
    "plt.axhline(y=100, color='r', linestyle='-')\n",
    "\n"
   ]
  },
  {
   "cell_type": "code",
   "execution_count": 30,
   "id": "dc035829",
   "metadata": {},
   "outputs": [],
   "source": [
    "stdev_ratio_casual_member = ratio_casual_member.std()"
   ]
  },
  {
   "cell_type": "code",
   "execution_count": 31,
   "id": "b6cc1945",
   "metadata": {},
   "outputs": [
    {
     "data": {
      "text/plain": [
       "Text(0, 0.5, 'count')"
      ]
     },
     "execution_count": 31,
     "metadata": {},
     "output_type": "execute_result"
    },
    {
     "data": {
      "image/png": "[encoded data removed]",
      "text/plain": [
       "<Figure size 432x288 with 1 Axes>"
      ]
     },
     "metadata": {
      "needs_background": "light"
     },
     "output_type": "display_data"
    }
   ],
   "source": [
    "plt.hist(ratio_casual_member)\n",
    "plt.xlabel('percentage_ratio_casual_member')\n",
    "plt.ylabel('count')"
   ]
  },
  {
   "cell_type": "markdown",
   "id": "f5bd4a34",
   "metadata": {},
   "source": [
    "In the above figure we have made a histogram plot which expresses the number of times that a particular **percentage value** exists in the percentage_ratio_casual_member dataframe in Y-axis. And in the X-axis we are expressing the **percentage values**."
   ]
  },
  {
   "cell_type": "markdown",
   "id": "2df8a7ca",
   "metadata": {},
   "source": [
    "We can see from the above plot that the percentage values above 100 are lesser than 20% of the highest value in the Y-axis. So, we are cosidering the percentage values above 100 as outliers to the dataset and removing them."
   ]
  },
  {
   "cell_type": "code",
   "execution_count": 32,
   "id": "24f882a2",
   "metadata": {},
   "outputs": [],
   "source": [
    "filtered_ratio_casual_member = []\n",
    "for i in range(len(ratio_casual_member)):\n",
    "    if ratio_casual_member[i] <= 100:\n",
    "        filtered_ratio_casual_member.append(ratio_casual_member[i])\n",
    "\n",
    "filtered_ratio_casual_member = pd.DataFrame(filtered_ratio_casual_member)\n",
    "avg_filtered_ratio_casual_member = filtered_ratio_casual_member[0].mean()\n",
    "median_filtered_ratio_casual_member = filtered_ratio_casual_member[0].median()\n",
    "difference = filtered_ratio_casual_member[0].mean() - filtered_ratio_casual_member[0].median()\n",
    "difference_percentage = difference/filtered_ratio_casual_member[0].median() * 100\n",
    "mode_filtered_ratio_casual_member = filtered_ratio_casual_member[0].mode()"
   ]
  },
  {
   "cell_type": "markdown",
   "id": "31e604a7",
   "metadata": {},
   "source": [
    "<b> We can see that after removing the outliers from the dataset we get the mean and median of the dataset and which is close to each other (mean is 1.06% higher in value compared to median)</b>\n",
    "\n",
    "So, we can conclude that the dataset is having a good degree of uniformity.\n",
    "\n",
    "Now, since **48%** (after rounding off) is the mean of the dataset, then we can conclude that on an average the number of casual riders visiting to the place where the members visit is 48% of the number of members. So, **there can be a 48% increment in the number of memberships from the casual riders**.  "
   ]
  },
  {
   "cell_type": "code",
   "execution_count": 33,
   "id": "c799fe0e",
   "metadata": {},
   "outputs": [],
   "source": [
    "ratio_casual_casual = sorted_table_member['frequency_casual'].sum()/merged_dataframe['frequency_casual'].sum() * 100\n",
    "percentage_prospective_members = 'percentage of prospective members out of the casual riders - ' + str(ratio_casual_casual) + ' %'"
   ]
  },
  {
   "cell_type": "markdown",
   "id": "84040c98",
   "metadata": {},
   "source": [
    "<b>The number of casual riders visiting to the places which are most visited ones for the members is 53% (rounded off) of the total number of casual riders.</b> "
   ]
  },
  {
   "cell_type": "markdown",
   "id": "72ca5ffa",
   "metadata": {},
   "source": [
    "### 3.3 Finding out the round trips"
   ]
  },
  {
   "cell_type": "code",
   "execution_count": 34,
   "id": "436eb5c7",
   "metadata": {},
   "outputs": [],
   "source": [
    "Total_df = Total_df.reset_index()\n",
    "Total_df = Total_df.drop(['index'], axis=1)"
   ]
  },
  {
   "cell_type": "code",
   "execution_count": 35,
   "id": "670ff128",
   "metadata": {},
   "outputs": [],
   "source": [
    "filtered_df = Total_df.query('start_station_name == end_station_name')\n",
    "round_trips_member_riders = 'The number of round trips for member riders - ' + str(filtered_df.query('member_casual == \"member\"')['ride_id'].count())"
   ]
  },
  {
   "cell_type": "code",
   "execution_count": 36,
   "id": "428896c1",
   "metadata": {},
   "outputs": [],
   "source": [
    "round_trips_casual_riders = 'The number of round trips for casual riders - ' + str(filtered_df.query('member_casual == \"casual\"')['ride_id'].count())"
   ]
  },
  {
   "cell_type": "markdown",
   "id": "834b3e43",
   "metadata": {},
   "source": [
    "In the above cells we can see the number of round trips for member and casual riders. The Total_df data has been filtered by the start time of the trips, so the trips starting at 8 am to 12 pm in the day are only existing here. \n"
   ]
  },
  {
   "cell_type": "code",
   "execution_count": 37,
   "id": "9111715a",
   "metadata": {},
   "outputs": [],
   "source": [
    "percent_member_rides = filtered_df.query('member_casual == \"member\"')['ride_id'].count()/Total_df.query('member_casual == \"member\"')['ride_id'].count() * 100\n",
    "percentage_member_round_trips = 'The percentage of member round trips ' + str(percent_member_rides)"
   ]
  },
  {
   "cell_type": "code",
   "execution_count": 38,
   "id": "c89bcd65",
   "metadata": {},
   "outputs": [],
   "source": [
    "percent_casual_rides = filtered_df.query('member_casual == \"casual\"')['ride_id'].count()/Total_df.query('member_casual == \"casual\"')['ride_id'].count() * 100\n",
    "percentage_casual_round_trips = 'The percentage of casual round trips ' + str(percent_casual_rides)"
   ]
  },
  {
   "cell_type": "markdown",
   "id": "9b228b97",
   "metadata": {},
   "source": [
    "## Summary"
   ]
  },
  {
   "cell_type": "markdown",
   "id": "9dc75ed5",
   "metadata": {},
   "source": [
    "**1.** The member users use the bikes throughout the week more consistently in terms of number of trips compared to the casuals. \n",
    "\n",
    "**2.** We can see a rise in the number of trips for the casual users in Friday, Saturday and Sundays."
   ]
  },
  {
   "cell_type": "code",
   "execution_count": 39,
   "id": "f2a8265f",
   "metadata": {},
   "outputs": [],
   "source": [
    "df_pivot_table_2 = pd.DataFrame(pivot_table_2)"
   ]
  },
  {
   "cell_type": "code",
   "execution_count": 40,
   "id": "5cd6de96",
   "metadata": {},
   "outputs": [],
   "source": [
    "casual_ride_count = []\n",
    "for i in range(7):\n",
    "    casual_ride_count.append(df_pivot_table_2[i][0])\n"
   ]
  },
  {
   "cell_type": "code",
   "execution_count": 41,
   "id": "b9521e4d",
   "metadata": {},
   "outputs": [],
   "source": [
    "member_ride_count = []\n",
    "for i in range(7):\n",
    "    member_ride_count.append(df_pivot_table_2[i][1])"
   ]
  },
  {
   "cell_type": "markdown",
   "id": "3dbc65ca",
   "metadata": {},
   "source": [
    "#### The plot below shows the number of trips done by casual riders in different days of the week throughout 12 months"
   ]
  },
  {
   "cell_type": "code",
   "execution_count": 42,
   "id": "bd603819",
   "metadata": {},
   "outputs": [
    {
     "data": {
      "text/plain": [
       "Text(0, 0.5, 'Number of Rides')"
      ]
     },
     "execution_count": 42,
     "metadata": {},
     "output_type": "execute_result"
    },
    {
     "data": {
      "image/png": "[encoded data removed]",
      "text/plain": [
       "<Figure size 720x288 with 1 Axes>"
      ]
     },
     "metadata": {
      "needs_background": "light"
     },
     "output_type": "display_data"
    }
   ],
   "source": [
    "\n",
    "f = plt.figure()\n",
    "f.set_figheight(4)\n",
    "f.set_figwidth(10)\n",
    "plt.plot(['Monday', 'Tuesday', 'Wednesday', 'Thursday', 'Friday', 'Saturday', 'Sunday'], casual_ride_count)\n",
    "plt.xlabel('Days of Week')\n",
    "plt.ylabel('Number of Rides')"
   ]
  },
  {
   "cell_type": "markdown",
   "id": "0b0b5d41",
   "metadata": {},
   "source": [
    "#### The plot below shows the number of trips done by member riders in different days of the week throughout 12 months"
   ]
  },
  {
   "cell_type": "code",
   "execution_count": 43,
   "id": "88616f7b",
   "metadata": {},
   "outputs": [
    {
     "data": {
      "text/plain": [
       "Text(0, 0.5, 'Number of Rides')"
      ]
     },
     "execution_count": 43,
     "metadata": {},
     "output_type": "execute_result"
    },
    {
     "data": {
      "image/png": "[encoded data removed]",
      "text/plain": [
       "<Figure size 720x288 with 1 Axes>"
      ]
     },
     "metadata": {
      "needs_background": "light"
     },
     "output_type": "display_data"
    }
   ],
   "source": [
    "f = plt.figure()\n",
    "f.set_figheight(4)\n",
    "f.set_figwidth(10)\n",
    "plt.plot(['Monday', 'Tuesday', 'Wednesday', 'Thursday', 'Friday', 'Saturday', 'Sunday'], member_ride_count)\n",
    "plt.xlabel('Days of Week')\n",
    "plt.ylabel('Number of Rides')"
   ]
  },
  {
   "cell_type": "markdown",
   "id": "45403bad",
   "metadata": {},
   "source": [
    "We can conclude from the above plots for that the number of rides by casual riders increase in the Saturdays and Sundays where the number of rides by the member riders decrease in the Mondays and Sundays but is higher and consistent in the week days."
   ]
  },
  {
   "cell_type": "markdown",
   "id": "441b6bc6",
   "metadata": {},
   "source": [
    "*So, my first assumption would be that the member riders use the bikes for daily commute purposes whereas casual riders use this for leisure activities.*"
   ]
  },
  {
   "cell_type": "markdown",
   "id": "1038dd75",
   "metadata": {},
   "source": [
    "**3.** From the section ***3.1*** we can see analysis of the ride duration per trip for the casual and member riders."
   ]
  },
  {
   "cell_type": "code",
   "execution_count": 44,
   "id": "f96975f1",
   "metadata": {},
   "outputs": [],
   "source": [
    "plt_df = []\n",
    "column_names = ['casual', 'member']\n",
    "for i in range(0, 2):\n",
    "    values = column_names[i]\n",
    "    plt_df.append(str(chart_df[values][0]))\n",
    "\n",
    "avg_ride_duration_casual = 'average of casual riders ride durations  - ' + plt_df[0]"
   ]
  },
  {
   "cell_type": "code",
   "execution_count": 45,
   "id": "6ee330b3",
   "metadata": {},
   "outputs": [],
   "source": [
    "avg_ride_duration_member = 'average of member riders ride durations  - ' + plt_df[1]"
   ]
  },
  {
   "cell_type": "markdown",
   "id": "ebc048db",
   "metadata": {},
   "source": [
    "We can see that the average duration of usage of rides by the member riders is lesser than casual riders."
   ]
  },
  {
   "cell_type": "markdown",
   "id": "22b6c47b",
   "metadata": {},
   "source": [
    "**4.** The analysis at point ***3.2.3*** shows that 53% of the casual riders visit to the places where the member riders visit. So, our target customers can be this 53% which can provide us a maximum of 48% increment(refer point ***3.2.3***) from the present number of memberships."
   ]
  },
  {
   "cell_type": "markdown",
   "id": "6ca7af8c",
   "metadata": {},
   "source": [
    "**5.** We can see in ***3.3*** about 4.95% of the trips made by member are round trips and 13.06% of the trips made by casual riders are round trips.\n",
    "\n",
    "The causes of round trips - \n",
    "- Small distant local transport \n",
    "- Exercise"
   ]
  },
  {
   "cell_type": "markdown",
   "id": "d038e2fe",
   "metadata": {},
   "source": [
    "## Recommendations"
   ]
  },
  {
   "cell_type": "markdown",
   "id": "63d2ec94",
   "metadata": {},
   "source": [
    "**1.** Advertisements should be run to promote the daily commute usage of the bikes.\n",
    "\n",
    "**2.** Since the median of ride durations for casual riders is higher, we can conclude for the most of the cases the casual riders travel a larger distance. Facilities should be made for larger distance bike rides.\n"
   ]
  },
  {
   "cell_type": "code",
   "execution_count": null,
   "id": "1a4ab53a",
   "metadata": {},
   "outputs": [],
   "source": []
  }
 ],
 "metadata": {
  "kernelspec": {
   "display_name": "Python 3 (ipykernel)",
   "language": "python",
   "name": "python3"
  },
  "language_info": {
   "codemirror_mode": {
    "name": "ipython",
    "version": 3
   },
   "file_extension": ".py",
   "mimetype": "text/x-python",
   "name": "python",
   "nbconvert_exporter": "python",
   "pygments_lexer": "ipython3",
   "version": "3.9.7"
  }
 },
 "nbformat": 4,
 "nbformat_minor": 5
}
